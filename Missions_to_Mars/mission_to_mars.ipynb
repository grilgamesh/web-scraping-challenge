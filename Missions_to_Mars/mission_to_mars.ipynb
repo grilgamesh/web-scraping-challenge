{
 "cells": [
  {
   "cell_type": "code",
   "execution_count": 76,
   "id": "eff14c78",
   "metadata": {},
   "outputs": [],
   "source": [
    "#import dependencies\n",
    "from splinter import Browser\n",
    "from bs4 import BeautifulSoup as bs\n",
    "import time\n",
    "from webdriver_manager.chrome import ChromeDriverManager\n",
    "import pandas as pd\n",
    "import re\n",
    "import fnmatch"
   ]
  },
  {
   "cell_type": "code",
   "execution_count": 3,
   "id": "d2dad10c",
   "metadata": {},
   "outputs": [
    {
     "name": "stderr",
     "output_type": "stream",
     "text": [
      "\n",
      "\n",
      "====== WebDriver manager ======\n",
      "Current google-chrome version is 101.0.4951\n",
      "Get LATEST chromedriver version for 101.0.4951 google-chrome\n",
      "Driver [C:\\Users\\David\\.wdm\\drivers\\chromedriver\\win32\\101.0.4951.41\\chromedriver.exe] found in cache\n"
     ]
    },
    {
     "name": "stdout",
     "output_type": "stream",
     "text": [
      "NASA to Broadcast Mars 2020 Perseverance Launch, Prelaunch Activities: Starting July 27, news activities will cover everything from mission engineering and science to returning samples from Mars to, of course, the launch itself.\n"
     ]
    }
   ],
   "source": [
    "# Set up Splinter\n",
    "executable_path = {'executable_path': ChromeDriverManager().install()}\n",
    "browser = Browser('chrome', **executable_path, headless=False)\n",
    "\n",
    "## NASA Mars News\n",
    "\n",
    "\n",
    "# Visit https://redplanetscience.com/\n",
    "url = \"https://redplanetscience.com/\"\n",
    "browser.visit(url)\n",
    "\n",
    "time.sleep(1)\n",
    "\n",
    "# Scrape page into Soup\n",
    "html = browser.html\n",
    "soup = bs(html, \"html.parser\")\n",
    "\n",
    "\n",
    "\n",
    "# Get the news title\n",
    "headline = soup.find('div', {'class':'content_title'})\n",
    "# Get the tesaser text\n",
    "paratext = soup.find('div', {'class':'article_teaser_body'})\n",
    "\n",
    "#convert to strings\n",
    "headlineStr = headline.get_text()\n",
    "paratextStr = paratext.get_text()\n",
    "\n",
    "print(f\"{headlineStr}: {paratextStr}\")\n",
    "# Close the browser after scraping\n",
    "browser.quit()\n"
   ]
  },
  {
   "cell_type": "code",
   "execution_count": 34,
   "id": "3df6c619",
   "metadata": {},
   "outputs": [
    {
     "name": "stderr",
     "output_type": "stream",
     "text": [
      "\n",
      "\n",
      "====== WebDriver manager ======\n",
      "Current google-chrome version is 101.0.4951\n",
      "Get LATEST chromedriver version for 101.0.4951 google-chrome\n",
      "Driver [C:\\Users\\David\\.wdm\\drivers\\chromedriver\\win32\\101.0.4951.41\\chromedriver.exe] found in cache\n"
     ]
    },
    {
     "data": {
      "text/plain": [
       "'https://spaceimages-mars.com/image/featured/mars1.jpg'"
      ]
     },
     "execution_count": 34,
     "metadata": {},
     "output_type": "execute_result"
    }
   ],
   "source": [
    "##JPL Mars Space Images—Featured Image\n",
    "\n",
    "# Set up Splinter\n",
    "executable_path = {'executable_path': ChromeDriverManager().install()}\n",
    "browser = Browser('chrome', **executable_path, headless=False)\n",
    "\n",
    "# Visit https://redplanetscience.com/\n",
    "url = \"https://spaceimages-mars.com/\"\n",
    "browser.visit(url)\n",
    "\n",
    "# Scrape page into Soup\n",
    "html = browser.html\n",
    "soup = bs(html, \"html.parser\")\n",
    "\n",
    "\n",
    "\n",
    "# Get the image url source, appended to the base url\n",
    "featured_image_url = url + soup.find('img', {'class':'headerimage'})['src']\n",
    "\n",
    "# Close the browser after scraping\n",
    "browser.quit()\n",
    "featured_image_url"
   ]
  },
  {
   "cell_type": "code",
   "execution_count": 33,
   "id": "604c4ef7",
   "metadata": {},
   "outputs": [
    {
     "data": {
      "text/plain": [
       "'<table border=\"1\" class=\"dataframe\">  <thead>    <tr style=\"text-align: right;\">      <th></th>      <th>0</th>      <th>1</th>    </tr>  </thead>  <tbody>    <tr>      <th>0</th>      <td>Equatorial Diameter:</td>      <td>6,792 km</td>    </tr>    <tr>      <th>1</th>      <td>Polar Diameter:</td>      <td>6,752 km</td>    </tr>    <tr>      <th>2</th>      <td>Mass:</td>      <td>6.39 × 10^23 kg (0.11 Earths)</td>    </tr>    <tr>      <th>3</th>      <td>Moons:</td>      <td>2 ( Phobos &amp; Deimos )</td>    </tr>    <tr>      <th>4</th>      <td>Orbit Distance:</td>      <td>227,943,824 km (1.38 AU)</td>    </tr>    <tr>      <th>5</th>      <td>Orbit Period:</td>      <td>687 days (1.9 years)</td>    </tr>    <tr>      <th>6</th>      <td>Surface Temperature:</td>      <td>-87 to -5 °C</td>    </tr>    <tr>      <th>7</th>      <td>First Record:</td>      <td>2nd millennium BC</td>    </tr>    <tr>      <th>8</th>      <td>Recorded By:</td>      <td>Egyptian astronomers</td>    </tr>  </tbody></table>'"
      ]
     },
     "execution_count": 33,
     "metadata": {},
     "output_type": "execute_result"
    }
   ],
   "source": [
    "## Mars Facts!!\n",
    "\n",
    "# Visit https://redplanetscience.com/\n",
    "url = \"https://galaxyfacts-mars.com/\"\n",
    "\n",
    "#read in html \n",
    "#take the 2nd table found\n",
    "#convert it to html\n",
    "#delete all line feeds (\\n)\n",
    "\n",
    "mars_html_table = pd.read_html(url)[1].to_html().replace('\\n', '')\n",
    "mars_html_table"
   ]
  },
  {
   "cell_type": "code",
   "execution_count": 164,
   "id": "524dc655",
   "metadata": {},
   "outputs": [
    {
     "name": "stderr",
     "output_type": "stream",
     "text": [
      "\n",
      "\n",
      "====== WebDriver manager ======\n",
      "Current google-chrome version is 101.0.4951\n",
      "Get LATEST chromedriver version for 101.0.4951 google-chrome\n",
      "Driver [C:\\Users\\David\\.wdm\\drivers\\chromedriver\\win32\\101.0.4951.41\\chromedriver.exe] found in cache\n"
     ]
    }
   ],
   "source": [
    "## Mars Hemispheres\n",
    "\n",
    "# Set up Splinter\n",
    "executable_path = {'executable_path': ChromeDriverManager().install()}\n",
    "browser = Browser('chrome', **executable_path, headless=False)\n",
    "\n",
    "# Visit https://redplanetscience.com/\n",
    "url = \"https://marshemispheres.com/\"\n",
    "browser.visit(url)\n",
    "\n",
    "# Scrape page into Soup\n",
    "html = browser.html\n",
    "soup = bs(html, \"html.parser\")\n",
    "\n",
    "# Close the browser after scraping\n",
    "browser.quit()\n"
   ]
  },
  {
   "cell_type": "code",
   "execution_count": 165,
   "id": "d81a66c6",
   "metadata": {},
   "outputs": [
    {
     "name": "stdout",
     "output_type": "stream",
     "text": [
      "['https://marshemispheres.com/cerberus.html', 'https://marshemispheres.com/schiaparelli.html', 'https://marshemispheres.com/syrtis.html', 'https://marshemispheres.com/valles.html', 'https://marshemispheres.com/#']\n"
     ]
    }
   ],
   "source": [
    "# find all links with the correct tag\n",
    "\n",
    "link_list = soup.find_all('a', {'class':'itemLink product-item'})\n",
    "href = []\n",
    "link_titles = []\n",
    "for a in link_list:\n",
    "    link = url + a['href']\n",
    "    if link not in href:\n",
    "        href.append(link)\n",
    "        \n",
    "\n",
    "print(href)\n"
   ]
  },
  {
   "cell_type": "code",
   "execution_count": 175,
   "id": "a6c11a8a",
   "metadata": {},
   "outputs": [
    {
     "data": {
      "text/plain": [
       "['Cerberus Hemisphere',\n",
       " 'Schiaparelli Hemisphere',\n",
       " 'Syrtis Major Hemisphere',\n",
       " 'Valles Marineris Hemisphere']"
      ]
     },
     "execution_count": 175,
     "metadata": {},
     "output_type": "execute_result"
    }
   ],
   "source": [
    "# find all of the images that end with 'thumbnail', grab the alt-text from the image associated with it\n",
    "# and strip off the 'enhanced thumbnail' bit, leaving just the name of the hemisphere PHEW\n",
    "\n",
    "link_list = soup.find_all('img', {'alt': lambda L: L and L.endswith('thumbnail')})\n",
    "\n",
    "hemispheres = []\n",
    "\n",
    "for link in link_list:\n",
    "    name = link['alt']\n",
    "    name = name.replace(' Enhanced thumbnail', '')\n",
    "    hemispheres.append(name)\n",
    "hemispheres"
   ]
  },
  {
   "cell_type": "code",
   "execution_count": 176,
   "id": "a780d570",
   "metadata": {},
   "outputs": [
    {
     "name": "stderr",
     "output_type": "stream",
     "text": [
      "\n",
      "\n",
      "====== WebDriver manager ======\n",
      "Current google-chrome version is 101.0.4951\n",
      "Get LATEST chromedriver version for 101.0.4951 google-chrome\n",
      "Driver [C:\\Users\\David\\.wdm\\drivers\\chromedriver\\win32\\101.0.4951.41\\chromedriver.exe] found in cache\n",
      "\n",
      "\n",
      "====== WebDriver manager ======\n",
      "Current google-chrome version is 101.0.4951\n",
      "Get LATEST chromedriver version for 101.0.4951 google-chrome\n",
      "Driver [C:\\Users\\David\\.wdm\\drivers\\chromedriver\\win32\\101.0.4951.41\\chromedriver.exe] found in cache\n",
      "\n",
      "\n",
      "====== WebDriver manager ======\n",
      "Current google-chrome version is 101.0.4951\n",
      "Get LATEST chromedriver version for 101.0.4951 google-chrome\n",
      "Driver [C:\\Users\\David\\.wdm\\drivers\\chromedriver\\win32\\101.0.4951.41\\chromedriver.exe] found in cache\n",
      "\n",
      "\n",
      "====== WebDriver manager ======\n",
      "Current google-chrome version is 101.0.4951\n",
      "Get LATEST chromedriver version for 101.0.4951 google-chrome\n",
      "Driver [C:\\Users\\David\\.wdm\\drivers\\chromedriver\\win32\\101.0.4951.41\\chromedriver.exe] found in cache\n",
      "\n",
      "\n",
      "====== WebDriver manager ======\n",
      "Current google-chrome version is 101.0.4951\n",
      "Get LATEST chromedriver version for 101.0.4951 google-chrome\n",
      "Driver [C:\\Users\\David\\.wdm\\drivers\\chromedriver\\win32\\101.0.4951.41\\chromedriver.exe] found in cache\n"
     ]
    },
    {
     "data": {
      "text/plain": [
       "[[<a href=\"images/full.jpg\" target=\"_blank\">Sample</a>,\n",
       "  <a href=\"images/cerberus_enhanced.tif\" target=\"_blank\">Original</a>,\n",
       "  <a href=\"images/cerberus_enhanced.tif\">cerberus_enhanced.tif<span class=\"tooltip word-tif\" title=\"\"></span></a>],\n",
       " [<a href=\"images/schiaparelli_enhanced-full.jpg\" target=\"_blank\">Sample</a>,\n",
       "  <a href=\"images/schiaparelli_enhanced.tif\" target=\"_blank\">Original</a>,\n",
       "  <a href=\"images/schiaparelli_enhanced.tif\">schiaparelli_enhanced.tif<span class=\"tooltip word-tif\" title=\"\"></span></a>],\n",
       " [<a href=\"images/syrtis_major_enhanced-full.jpg\" target=\"_blank\">Sample</a>,\n",
       "  <a href=\"images/syrtis_major_enhanced.tif\" target=\"_blank\">Original</a>,\n",
       "  <a href=\"images/syrtis_major_enhanced.tif\">syrtis_major_enhanced.tif<span class=\"tooltip word-tif\" title=\"\"></span></a>],\n",
       " [<a href=\"images/valles_marineris_enhanced-full.jpg\" target=\"_blank\">Sample</a>,\n",
       "  <a href=\"images/valles_marineris_enhanced.tif\" target=\"_blank\">Original</a>,\n",
       "  <a href=\"images/valles_marineris_enhanced.tif\">valles_marineris_enhanced.tif<span class=\"tooltip word-tif\" title=\"\"></span></a>],\n",
       " []]"
      ]
     },
     "execution_count": 176,
     "metadata": {},
     "output_type": "execute_result"
    }
   ],
   "source": [
    "# find all links that link to the image directory in each of the four websites found above\n",
    "\n",
    "long_list = []\n",
    "for url in href:\n",
    "\n",
    "    # Set up Splinter\n",
    "    executable_path = {'executable_path': ChromeDriverManager().install()}\n",
    "    browser = Browser('chrome', **executable_path, headless=False)\n",
    "    browser.visit(url)\n",
    "    html = browser.html\n",
    "    soup = bs(html, \"html.parser\")\n",
    "    long_list.append(soup.find_all('a', {'href': lambda L: L and L.startswith('images')}))\n",
    "    \n",
    "    # Close the browser after scraping\n",
    "    browser.quit()\n",
    "long_list"
   ]
  },
  {
   "cell_type": "code",
   "execution_count": 177,
   "id": "6de57489",
   "metadata": {},
   "outputs": [
    {
     "data": {
      "text/plain": [
       "['https://marshemispheres.com/#images/full.jpg',\n",
       " 'https://marshemispheres.com/#images/schiaparelli_enhanced-full.jpg',\n",
       " 'https://marshemispheres.com/#images/syrtis_major_enhanced-full.jpg',\n",
       " 'https://marshemispheres.com/#images/valles_marineris_enhanced-full.jpg']"
      ]
     },
     "execution_count": 177,
     "metadata": {},
     "output_type": "execute_result"
    }
   ],
   "source": [
    "# the first image in each item is the jpg we want, fortunately, so we can just use index notation to grab it's href\n",
    "# for some reason there is a blank link at the end, so the safest way to handle it is just to jump over any duff links.\n",
    "\n",
    "jpg = []\n",
    "for a in long_list:\n",
    "    try: \n",
    "        link = url + a[0]['href']\n",
    "        jpg.append(link)\n",
    "    except IndexError:\n",
    "        next\n",
    "        \n",
    "jpg"
   ]
  },
  {
   "cell_type": "code",
   "execution_count": 179,
   "id": "340312ab",
   "metadata": {},
   "outputs": [
    {
     "data": {
      "text/plain": [
       "[{'title': 'Cerberus Hemisphere',\n",
       "  'img_url': 'https://marshemispheres.com/#images/full.jpg'},\n",
       " {'title': 'Schiaparelli Hemisphere',\n",
       "  'img_url': 'https://marshemispheres.com/#images/schiaparelli_enhanced-full.jpg'},\n",
       " {'title': 'Syrtis Major Hemisphere',\n",
       "  'img_url': 'https://marshemispheres.com/#images/syrtis_major_enhanced-full.jpg'},\n",
       " {'title': 'Valles Marineris Hemisphere',\n",
       "  'img_url': 'https://marshemispheres.com/#images/valles_marineris_enhanced-full.jpg'}]"
      ]
     },
     "execution_count": 179,
     "metadata": {},
     "output_type": "execute_result"
    }
   ],
   "source": [
    "# zip together the titles and the urls into a dictionary.\n",
    "\n",
    "hemisphere_image_urls = []\n",
    "\n",
    "for (a,b) in zip(hemispheres, jpg):\n",
    "    hemisphere_image_urls.append({\n",
    "        'title': a,\n",
    "        'img_url':b\n",
    "    })\n",
    "    \n",
    "hemisphere_image_urls"
   ]
  },
  {
   "cell_type": "code",
   "execution_count": null,
   "id": "c4435306",
   "metadata": {},
   "outputs": [],
   "source": []
  },
  {
   "cell_type": "code",
   "execution_count": null,
   "id": "cc182fa4",
   "metadata": {},
   "outputs": [],
   "source": []
  }
 ],
 "metadata": {
  "kernelspec": {
   "display_name": "Python 3 (ipykernel)",
   "language": "python",
   "name": "python3"
  },
  "language_info": {
   "codemirror_mode": {
    "name": "ipython",
    "version": 3
   },
   "file_extension": ".py",
   "mimetype": "text/x-python",
   "name": "python",
   "nbconvert_exporter": "python",
   "pygments_lexer": "ipython3",
   "version": "3.9.7"
  }
 },
 "nbformat": 4,
 "nbformat_minor": 5
}
